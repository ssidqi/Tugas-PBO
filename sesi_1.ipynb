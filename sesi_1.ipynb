{
  "nbformat": 4,
  "nbformat_minor": 0,
  "metadata": {
    "colab": {
      "provenance": [],
      "authorship_tag": "ABX9TyM98nsgWIIMFSCTxH6wkkOo",
      "include_colab_link": true
    },
    "kernelspec": {
      "name": "python3",
      "display_name": "Python 3"
    },
    "language_info": {
      "name": "python"
    }
  },
  "cells": [
    {
      "cell_type": "markdown",
      "metadata": {
        "id": "view-in-github",
        "colab_type": "text"
      },
      "source": [
        "<a href=\"https://colab.research.google.com/github/ssidqi/Tugas-PBO/blob/main/sesi_1.ipynb\" target=\"_parent\"><img src=\"https://colab.research.google.com/assets/colab-badge.svg\" alt=\"Open In Colab\"/></a>"
      ]
    },
    {
      "cell_type": "code",
      "execution_count": null,
      "metadata": {
        "colab": {
          "base_uri": "https://localhost:8080/"
        },
        "id": "a_WFIz1dtxEV",
        "outputId": "66956663-2577-4f49-c78b-1744a883ae82"
      },
      "outputs": [
        {
          "output_type": "stream",
          "name": "stdout",
          "text": [
            "Fata Assdqi\n",
            "Departemen of Information Tecnology\n",
            "UIN Ar-raniry\n",
            "jalan syeh abdulrauf kepelma darussalam\n",
            "Banda Aceh\n",
            "Indonesia\n"
          ]
        }
      ],
      "source": [
        "#menampilkan alamat lengkap\n",
        "print(\"Fata Assdqi\")\n",
        "print(\"Departemen of Information Tecnology\")\n",
        "print(\"UIN Ar-raniry\")\n",
        "print(\"jalan syeh abdulrauf kepelma darussalam\")\n",
        "print(\"Banda Aceh\")\n",
        "print(\"Indonesia\")\n"
      ]
    },
    {
      "cell_type": "code",
      "source": [
        "#menghitung luas kamar\n",
        "\n",
        "panjang = float(input(\"masukkan ukuran panjang dalam satuan meter\"))\n",
        "lebar = float(input(\"masukkan ukuran lebar dalam satuan meter\"))\n",
        "\n",
        "luas = panjang * lebar\n",
        "\n",
        "print(\"luas dari kamar ini adalah :\", luas , \"metet kuadrat\")"
      ],
      "metadata": {
        "colab": {
          "base_uri": "https://localhost:8080/"
        },
        "id": "yRNIDTMAukTM",
        "outputId": "8a2b5708-c0fb-4646-880f-bdfdf6ef9f8d"
      },
      "execution_count": null,
      "outputs": [
        {
          "output_type": "stream",
          "name": "stdout",
          "text": [
            "masukkan ukuran panjang dalam satuan meter123\n",
            "masukkan ukuran lebar dalam satuan meter23\n",
            "luas dari kamar ini adalah : 2829.0 metet kuadrat\n"
          ]
        }
      ]
    },
    {
      "cell_type": "code",
      "source": [
        "#menghitung jumlah dari bilangan positif pertama\n",
        "\n",
        "n = int(input(\"masukkan bilangan bulat positif: \"))\n",
        "\n",
        "sm = n * (n+1) / 2\n",
        "\n",
        "print(\"jumlah pertama dari \", n , \"bilangan positi adalah\", sm)\n"
      ],
      "metadata": {
        "colab": {
          "base_uri": "https://localhost:8080/"
        },
        "id": "-ar8HJnEvFtE",
        "outputId": "4f7eb3aa-a18d-44e9-dc33-38720745b483"
      },
      "execution_count": null,
      "outputs": [
        {
          "output_type": "stream",
          "name": "stdout",
          "text": [
            "masukkan bilangan bulat positif: 34\n",
            "jumlah pertama dari  34 bilangan positi adalah 595.0\n"
          ]
        }
      ]
    },
    {
      "cell_type": "code",
      "source": [
        "# Pengenalan operator matematika pada Python dan modul math\n",
        "\n",
        "\n",
        "from math import log10\n",
        "\n",
        "x = int (input(\"Masukkan bilangan dari x:\"))\n",
        "y = int (input(\"Masukkan bilangan dari y:\"))\n",
        "\n",
        "print(x, \"+\", y, \"adalah\", x + y)\n",
        "print(x, \"-\", y, \"adalah\", x - y)\n",
        "print(x, \"*\", y, \"adalah\", x * y)\n",
        "print(x, \"/\", y, \"adalah\", x / y)\n",
        "print(x, \"%\", y, \"adalah\", x % y)\n",
        "\n",
        "print(\"Logaritma basis 10 dari\", x, \"adalah\", log10(x))\n",
        "print(x, \"^\", y, \"adalah\", x**y)\n"
      ],
      "metadata": {
        "colab": {
          "base_uri": "https://localhost:8080/"
        },
        "id": "_8npZdZgvjaT",
        "outputId": "9995728b-c415-40f4-ea9e-5f187c177c6a"
      },
      "execution_count": null,
      "outputs": [
        {
          "output_type": "stream",
          "name": "stdout",
          "text": [
            "Masukkan bilangan dari x:12\n",
            "Masukkan bilangan dari y:34\n",
            "12 + 34 adalah 46\n",
            "12 - 34 adalah -22\n",
            "12 * 34 adalah 408\n",
            "12 / 34 adalah 0.35294117647058826\n",
            "12 % 34 adalah 12\n",
            "Logaritma basis 10 dari 12 adalah 1.0791812460476249\n",
            "12 ^ 34 adalah 4922235242952026704037113243122008064\n"
          ]
        }
      ]
    }
  ]
}